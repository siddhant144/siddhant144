{
  "nbformat": 4,
  "nbformat_minor": 0,
  "metadata": {
    "colab": {
      "name": "Siddhanthajare(navigation).ipynb",
      "provenance": [],
      "collapsed_sections": []
    },
    "kernelspec": {
      "name": "python3",
      "display_name": "Python 3"
    },
    "language_info": {
      "name": "python"
    }
  },
  "cells": [
    {
      "cell_type": "code",
      "metadata": {
        "id": "Wu08OFmBtl2f"
      },
      "source": [
        "altd = int(input(\"Enter the Altitude Of the Plane:\"))\n",
        "print(\"U Enter the altitude:\" , altd)\n",
        "x = input(\"iF the Alitude is Entered Correct press 1 or else press 0 : \")\n",
        "print(x)\n",
        "if x == 1:\n",
        "  print(\"Correct\")\n",
        "elif altd <= 3000:\n",
        "          print(\" is safe For Landing\")\n",
        "elif 3000 < altd < 6000:\n",
        "          print(\"u can try landing but need to reduce the Altitude\")\n",
        "elif altd >= 6000:\n",
        "         print(\"U cannot land on the airport\")\n",
        "elif x == 0:\n",
        "  break\n",
        "  print(\"false\")\n"
      ],
      "execution_count": null,
      "outputs": []
    }
  ]
}